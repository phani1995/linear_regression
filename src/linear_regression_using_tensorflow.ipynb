{
 "cells": [
  {
   "cell_type": "markdown",
   "metadata": {},
   "source": [
    "# Imports\n",
    "Numpy import for array processing, python doesn’t have built in array support. The feature of working with native arrays can be used in python with the help of numpy library.\n",
    "\n",
    "Pandas is a library of python used for working with tables, on importing the data, mostly data will be of table format, for ease manipulation of tables pandas library is imported\n",
    "\n",
    "Matplotlib is a library of python used to plot graphs, for the purpose of visualizing the results we would be plotting the results with the help of matplotlib library.\n",
    "\n",
    "Tensorflow import since we are going to use tensorflow framework for building model"
   ]
  },
  {
   "cell_type": "code",
   "execution_count": 1,
   "metadata": {
    "scrolled": true
   },
   "outputs": [
    {
     "name": "stderr",
     "output_type": "stream",
     "text": [
      "C:\\Users\\phani.thontepu\\AppData\\Local\\Continuum\\anaconda3\\lib\\site-packages\\h5py\\__init__.py:36: FutureWarning: Conversion of the second argument of issubdtype from `float` to `np.floating` is deprecated. In future, it will be treated as `np.float64 == np.dtype(float).type`.\n",
      "  from ._conv import register_converters as _register_converters\n"
     ]
    }
   ],
   "source": [
    "import numpy as np\n",
    "import pandas as pd\n",
    "import matplotlib.pyplot as plt\n",
    "import tensorflow as tf"
   ]
  },
  {
   "cell_type": "markdown",
   "metadata": {},
   "source": [
    "# Reading the dataset from data\n",
    "In this line of code using the read_excel method of pandas library, the dataset has been imported from data folder and stored in dataset variable.\n",
    "\n",
    "On visualizing the dataset, it contains of two columns X and Y where X is dependent variable and Y is Independent Variable.\n",
    "\n",
    ">Note : On using Grey Kangaroos dataset,the data is normalised, standardised,having a lot of inbuilt variance and outliers the code would result in a gradient exploding problem. "
   ]
  },
  {
   "cell_type": "code",
   "execution_count": 2,
   "metadata": {},
   "outputs": [],
   "source": [
    "dataset = pd.read_csv(r'..\\\\data\\\\auto_insurance.csv')"
   ]
  },
  {
   "cell_type": "markdown",
   "metadata": {},
   "source": [
    "On viewing the dataset, it contains of two columns X and Y where X is dependent variable and Y is Independent Variable."
   ]
  },
  {
   "cell_type": "code",
   "execution_count": 3,
   "metadata": {},
   "outputs": [
    {
     "data": {
      "text/html": [
       "<div>\n",
       "<style scoped>\n",
       "    .dataframe tbody tr th:only-of-type {\n",
       "        vertical-align: middle;\n",
       "    }\n",
       "\n",
       "    .dataframe tbody tr th {\n",
       "        vertical-align: top;\n",
       "    }\n",
       "\n",
       "    .dataframe thead th {\n",
       "        text-align: right;\n",
       "    }\n",
       "</style>\n",
       "<table border=\"1\" class=\"dataframe\">\n",
       "  <thead>\n",
       "    <tr style=\"text-align: right;\">\n",
       "      <th></th>\n",
       "      <th>X</th>\n",
       "      <th>Y</th>\n",
       "    </tr>\n",
       "  </thead>\n",
       "  <tbody>\n",
       "    <tr>\n",
       "      <th>0</th>\n",
       "      <td>108</td>\n",
       "      <td>392.5</td>\n",
       "    </tr>\n",
       "    <tr>\n",
       "      <th>1</th>\n",
       "      <td>19</td>\n",
       "      <td>46.2</td>\n",
       "    </tr>\n",
       "    <tr>\n",
       "      <th>2</th>\n",
       "      <td>13</td>\n",
       "      <td>15.7</td>\n",
       "    </tr>\n",
       "    <tr>\n",
       "      <th>3</th>\n",
       "      <td>124</td>\n",
       "      <td>422.2</td>\n",
       "    </tr>\n",
       "    <tr>\n",
       "      <th>4</th>\n",
       "      <td>40</td>\n",
       "      <td>119.4</td>\n",
       "    </tr>\n",
       "  </tbody>\n",
       "</table>\n",
       "</div>"
      ],
      "text/plain": [
       "     X      Y\n",
       "0  108  392.5\n",
       "1   19   46.2\n",
       "2   13   15.7\n",
       "3  124  422.2\n",
       "4   40  119.4"
      ]
     },
     "execution_count": 3,
     "metadata": {},
     "output_type": "execute_result"
    }
   ],
   "source": [
    "dataset.head()"
   ]
  },
  {
   "cell_type": "markdown",
   "metadata": {},
   "source": [
    "# Creating Dependent and Independent variables\n",
    "The X Column from the dataset is extracted into an X variable of type numpy, similarly the y variable\n",
    "X is an independent variable \n",
    "Y is dependent variable Inference"
   ]
  },
  {
   "cell_type": "code",
   "execution_count": 4,
   "metadata": {},
   "outputs": [],
   "source": [
    "X = dataset['X'].values\n",
    "y = dataset['Y'].values"
   ]
  },
  {
   "cell_type": "markdown",
   "metadata": {},
   "source": [
    "On execution of first line would result in a pandas Series Object\n",
    "On using values attribute it would result in an numpy array"
   ]
  },
  {
   "cell_type": "code",
   "execution_count": 5,
   "metadata": {},
   "outputs": [
    {
     "name": "stdout",
     "output_type": "stream",
     "text": [
      "<class 'pandas.core.series.Series'>\n",
      "<class 'numpy.ndarray'>\n"
     ]
    }
   ],
   "source": [
    "print(type(dataset['X']))\n",
    "print(type(dataset['X'].values))"
   ]
  },
  {
   "cell_type": "markdown",
   "metadata": {},
   "source": [
    "# Visualizing the data \n",
    "The step is to just see how the dataset is \n",
    "On visualization the data would appear something like this\n",
    "The X and Y attributes would vary based on dataset."
   ]
  },
  {
   "cell_type": "code",
   "execution_count": 6,
   "metadata": {},
   "outputs": [
    {
     "data": {
      "image/png": "[encoded data removed]",
      "text/plain": [
       "<Figure size 432x288 with 1 Axes>"
      ]
     },
     "metadata": {},
     "output_type": "display_data"
    }
   ],
   "source": [
    "title='Linear Regression on Auto Insurance in Sweden Dataset'\n",
    "x_axis_label = 'Number of Claims'\n",
    "y_axis_label = 'Total Payment'\n",
    "plt.scatter(X,y)\n",
    "plt.title(title)\n",
    "plt.xlabel(x_axis_label)\n",
    "plt.ylabel(y_axis_label)\n",
    "plt.show()"
   ]
  },
  {
   "cell_type": "markdown",
   "metadata": {},
   "source": [
    "# Splitting the data into training set and test set\n",
    "We are splitting the whole dataset into training and test set where training set is used for fitting the line to data and test set is used to check how good the line if for the data."
   ]
  },
  {
   "cell_type": "code",
   "execution_count": 7,
   "metadata": {},
   "outputs": [],
   "source": [
    "X_train,X_test = np.split(X,indices_or_sections = [int(len(X)*0.8)])\n",
    "y_train,y_test = np.split(y,indices_or_sections = [int(len(X)*0.8)])"
   ]
  },
  {
   "cell_type": "markdown",
   "metadata": {},
   "source": [
    "# Reshaping the numpy arrays since the tensorflow model expects 2-D array in further code\n",
    "In further the tensorflow learning model would be expecting a 2-D array of shape (length,1)."
   ]
  },
  {
   "cell_type": "code",
   "execution_count": 8,
   "metadata": {},
   "outputs": [],
   "source": [
    "X_train = np.reshape(X_train,newshape = (-1,1)).astype('float32')\n",
    "y_train = np.reshape(y_train,newshape = (-1,1)).astype('float32')\n",
    "X_test = np.reshape(X_test,newshape = (-1,1)).astype('float32')\n",
    "y_test = np.reshape(y_test,newshape = (-1,1)).astype('float32')"
   ]
  },
  {
   "cell_type": "markdown",
   "metadata": {},
   "source": [
    "# Variables for training \n",
    "* `Epochs`: stands for how many time the whole data is put through on forward propagation and one backward propagation.\n",
    "* `Learning Rate` : is a hyperparameter in backpropagation algorithm to adjust the variables in graph based on loss obtained in forward propagation"
   ]
  },
  {
   "cell_type": "code",
   "execution_count": 9,
   "metadata": {},
   "outputs": [],
   "source": [
    "epochs = 1000\n",
    "learning_rate = 0.0001"
   ]
  },
  {
   "cell_type": "markdown",
   "metadata": {},
   "source": [
    "# Tensors to build the tensor graph\n",
    "These tensors are created based on the line equation y = m*x + c\n",
    "\n",
    "* `X_tf` : placeholder tensor which would hold the values of X train\n",
    "* `m` : variable tensor which would hold the value of slope.\n",
    "* `c` : variable tensor which would hold the value of intercept\n",
    "* `y_actual` = placeholder tensor which would hold the value of ground truth y"
   ]
  },
  {
   "cell_type": "code",
   "execution_count": 10,
   "metadata": {},
   "outputs": [],
   "source": [
    "X_tf = tf.placeholder(tf.float32,shape = (None,1),name = 'x_palceholder')\n",
    "m = tf.Variable(tf.ones([1,1]))\n",
    "c = tf.Variable(tf.ones(shape=(1,1),dtype=tf.float32),name='intercept')\n",
    "y_actual = tf.placeholder(tf.float32,shape = (None,1),name = 'y_actual_palceholder')"
   ]
  },
  {
   "cell_type": "markdown",
   "metadata": {},
   "source": [
    "# Equation of line in Tensorflow\n",
    "Creating a graph using line equation\n",
    "* `y_pred` : is the resultant graph tensor "
   ]
  },
  {
   "cell_type": "code",
   "execution_count": 11,
   "metadata": {},
   "outputs": [],
   "source": [
    "y_pred = tf.add(tf.matmul(X_tf,m),c)"
   ]
  },
  {
   "attachments": {
    "image.png": {
     "image/png": "[encoded data removed]"
    }
   },
   "cell_type": "markdown",
   "metadata": {},
   "source": [
    "# Loss Function\n",
    "Loss is the deviation of predicted value from the ground truth.\n",
    "\n",
    "The `loss` is calculated as root mean square formula  ![image.png](attachment:image.png)"
   ]
  },
  {
   "cell_type": "code",
   "execution_count": 12,
   "metadata": {},
   "outputs": [],
   "source": [
    "loss = tf.reduce_mean(tf.square((y_pred - y_actual)))"
   ]
  },
  {
   "cell_type": "markdown",
   "metadata": {},
   "source": [
    "# Creating Training step using Gradient Descent Optimizer\n",
    "* `training_step` : choosing an optimizer with learning rate and directing it to minimize  loss function"
   ]
  },
  {
   "cell_type": "code",
   "execution_count": 13,
   "metadata": {},
   "outputs": [],
   "source": [
    "training_step = tf.train.GradientDescentOptimizer(learning_rate).minimize(loss)"
   ]
  },
  {
   "cell_type": "markdown",
   "metadata": {},
   "source": [
    "# Training \n",
    "A tensorflow session is created and opened. All the variables are initialized in line 2. The training is run with help of for loop created in line 4 and training_step is run in line 5\n",
    "* `feed_dict` : this dictionary feed the input values to the placeholder tensors in graph\n",
    ">Note: In python script we would be using is normal session (Not interactive) whereas, in jupyter since the code is split into two below blocks, we would be using an interactive session"
   ]
  },
  {
   "cell_type": "code",
   "execution_count": 14,
   "metadata": {},
   "outputs": [],
   "source": [
    "sess = tf.InteractiveSession()\n",
    "init = tf.global_variables_initializer()\n",
    "sess.run(init)\n",
    "for i in range(epochs):\n",
    "    sess.run(training_step,feed_dict= {X_tf:X_train,y_actual:y_train})"
   ]
  },
  {
   "cell_type": "markdown",
   "metadata": {},
   "source": [
    "# Predicting the Results \n",
    "By having the values of slope and intercept tensors of linear regression model we are trying to predict the values of test data. Y_pred variable contains all the predicted y-values of the test x-values. \n",
    "Line 2 is closing the session."
   ]
  },
  {
   "cell_type": "code",
   "execution_count": 15,
   "metadata": {},
   "outputs": [],
   "source": [
    "y_predicted = sess.run(y_pred,feed_dict= {X_tf:X_test})\n",
    "sess.close()"
   ]
  },
  {
   "cell_type": "markdown",
   "metadata": {},
   "source": [
    "# Visualizing the Results\n",
    "As we have predicted the y-values for a set of x-values we are visualizing the results to check how good did our line fit for our predictions.\n",
    "The plot shows the red points are the data points are actual values where the blue line is the predictions."
   ]
  },
  {
   "cell_type": "code",
   "execution_count": 16,
   "metadata": {},
   "outputs": [
    {
     "data": {
      "image/png": "[encoded data removed]",
      "text/plain": [
       "<Figure size 432x288 with 1 Axes>"
      ]
     },
     "metadata": {},
     "output_type": "display_data"
    }
   ],
   "source": [
    "plt.scatter(X_test,y_test,c='red')\n",
    "plt.plot(X_test,y_predicted,c='green')\n",
    "plt.title(title)\n",
    "plt.xlabel(x_axis_label)\n",
    "plt.ylabel(y_axis_label)\n",
    "plt.show()"
   ]
  },
  {
   "cell_type": "code",
   "execution_count": null,
   "metadata": {},
   "outputs": [],
   "source": []
  }
 ],
 "metadata": {
  "kernelspec": {
   "display_name": "Python 3",
   "language": "python",
   "name": "python3"
  },
  "language_info": {
   "codemirror_mode": {
    "name": "ipython",
    "version": 3
   },
   "file_extension": ".py",
   "mimetype": "text/x-python",
   "name": "python",
   "nbconvert_exporter": "python",
   "pygments_lexer": "ipython3",
   "version": "3.6.5"
  }
 },
 "nbformat": 4,
 "nbformat_minor": 2
}
